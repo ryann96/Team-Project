{
 "cells": [
  {
   "cell_type": "markdown",
   "metadata": {},
   "source": [
    "---\n",
    "toc: false\n",
    "hide: true\n",
    "layout: post\n",
    "title: Live Review 1\n",
    "description: Our accomplishments of this week\n",
    "courses: { csse: {week: 8 } }\n",
    "type: ccc\n",
    "author: Zafeer, Gavin, and Ryan\n",
    "---\n"
   ]
  },
  {
   "cell_type": "markdown",
   "metadata": {},
   "source": [
    "{% include header_nav.html %}\n"
   ]
  },
  {
   "cell_type": "markdown",
   "metadata": {},
   "source": [
    "## Updates to our website for this week"
   ]
  },
  {
   "cell_type": "markdown",
   "metadata": {},
   "source": [
    "- Added globe image\n",
    "- Added table on homepage\n",
    "- Added mario to home page (3 files added from teacher repo: Index.md, mario_metadata, Mario_image)\n",
    "- Font change\n",
    "- Changed where header was (changed to add the header_nav)\n",
    "- Added our 3 games (From previous trimester)\n",
    "- Changed the tite"
   ]
  },
  {
   "cell_type": "markdown",
   "metadata": {},
   "source": [
    "## Problem with Mario animation on homepage\n",
    "\n",
    "When we added our mario animation, one thing we forgot to define the image, and this caused the metadata to be messed up, and make the mario not show up. "
   ]
  }
 ],
 "metadata": {
  "kernelspec": {
   "display_name": "Python 3 (ipykernel)",
   "language": "python",
   "name": "python3"
  },
  "language_info": {
   "codemirror_mode": {
    "name": "ipython",
    "version": 3
   },
   "file_extension": ".py",
   "mimetype": "text/x-python",
   "name": "python",
   "nbconvert_exporter": "python",
   "pygments_lexer": "ipython3",
   "version": "3.10.12"
  },
  "orig_nbformat": 4
 },
 "nbformat": 4,
 "nbformat_minor": 2
}
