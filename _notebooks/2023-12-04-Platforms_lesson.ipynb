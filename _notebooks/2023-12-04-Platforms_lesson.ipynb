{
 "cells": [
  {
   "cell_type": "markdown",
   "metadata": {},
   "source": [
    "---\n",
    "layout: post\n",
    "title: Mario Platforms Lesson\n",
    "description: A lesson designed to help you create your own platform for your game\n",
    "courses: { csse: {week: 8 } }\n",
    "type: ccc\n",
    "author: Gavin Copley, Zafeer Ahmed, Ryan Nguyen\n",
    "---"
   ]
  },
  {
   "cell_type": "markdown",
   "metadata": {},
   "source": [
    "<a href=\"https://ryann96.github.io/Team-Project/mariogame\">Mario Platforms</a>"
   ]
  }
 ],
 "metadata": {
  "language_info": {
   "name": "python"
  },
  "orig_nbformat": 4
 },
 "nbformat": 4,
 "nbformat_minor": 2
}
