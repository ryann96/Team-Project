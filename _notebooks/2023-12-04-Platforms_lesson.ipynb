{
 "cells": [
  {
   "cell_type": "markdown",
   "metadata": {},
   "source": [
    "---\n",
    "layout: post\n",
    "title: Mario Platforms Lesson\n",
    "description: A lesson designed to help you create your own platform for your game\n",
    "courses: { csse: {week: 8 } }\n",
    "type: ccc\n",
    "author: Gavin Copley, Zafeer Ahmed, Ryan Nguyen\n",
    "---"
   ]
  },
  {
   "cell_type": "markdown",
   "metadata": {},
   "source": [
    "<a href=\"https://ryann96.github.io/Team-Project/mariogame\">Mario Platforms</a>"
   ]
  },
  {
   "cell_type": "markdown",
   "metadata": {},
   "source": [
    "### Using OOP\n",
    "- We use Object Orientated Programming to complete this task. OOP uses objects, classes, variables, and includes a plethora of other items to create, in this case, a developed and fully functional javascript game! Follow along as we go through the steps to make 3 of the following additions: A platform, a coin, and a scoreboard."
   ]
  },
  {
   "cell_type": "markdown",
   "metadata": {},
   "source": [
    "## Making A Platform\n",
    "- First, we need to make a new .js file to store our information\n",
    "- We named ours PlatformO.js\n",
    "- Include the following code to make sure that it runs with the rest of the game"
   ]
  },
  {
   "cell_type": "code",
   "execution_count": null,
   "metadata": {
    "vscode": {
     "languageId": "javascript"
    }
   },
   "outputs": [],
   "source": [
    "import GameEnv from './GameEnv.js';\n",
    "import GameObject from './GameObject.js';\n",
    "\n",
    "export class PlatformO extends GameObject {\n",
    "    constructor(canvas, image) {\n",
    "        super(canvas, image, 0);\n",
    "    }\n",
    "\n",
    "    // Required, but no update action\n",
    "    update() {\n",
    "    }\n",
    "\n",
    "    // Draw position is always 0,0\n",
    "    draw() {\n",
    "        this.ctx.drawImage(this.image, 0, 0);\n",
    "    }\n",
    "\n",
    "    // Set platform position\n",
    "    size() {\n",
    "        // Formula for Height should be on constant ratio, using a proportion of 832\n",
    "        const scaledHeight = GameEnv.innerHeight * (60/832);\n",
    "        // Formula for Width is scaled: scaledWidth/scaledHeight == this.width/this.height\n",
    "        const scaledWidth = 150;\n",
    "        const platformX = .1 * GameEnv.innerWidth;\n",
    "        const platformY = (GameEnv.bottom - scaledHeight) - 150;\n",
    "\n",
    "        // set variables used in Display and Collision algorithms\n",
    "        this.bottom = platformY;\n",
    "        this.collisionHeight = scaledHeight;\n",
    "        this.collisionWidth = scaledWidth;\n",
    "    \n",
    "        //this.canvas.width = this.width; \n",
    "        //this.canvas.height = this.height;\n",
    "        this.canvas.style.width = `${scaledWidth}px`;\n",
    "        this.canvas.style.height = `${scaledHeight}px`;\n",
    "        this.canvas.style.position = 'absolute';\n",
    "        this.canvas.style.left = `${platformX}px`;\n",
    "        this.canvas.style.top = `${platformY}px`; \n",
    "\n",
    "    }\n",
    "}\n",
    "\n",
    "export default PlatformO;"
   ]
  },
  {
   "cell_type": "markdown",
   "metadata": {},
   "source": [
    "### Constructor and Super\n",
    "- Constructor is used to initialize an object and to set it's values\n",
    "- Super is used to inherit traits from a parent object."
   ]
  },
  {
   "cell_type": "markdown",
   "metadata": {},
   "source": [
    "- Most of the values are changeable; we can change the position, size, and so on for the platform. Be sure to experiment!"
   ]
  },
  {
   "cell_type": "markdown",
   "metadata": {},
   "source": []
  }
 ],
 "metadata": {
  "language_info": {
   "name": "python"
  },
  "orig_nbformat": 4
 },
 "nbformat": 4,
 "nbformat_minor": 2
}
