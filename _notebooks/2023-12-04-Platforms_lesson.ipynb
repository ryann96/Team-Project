{
 "cells": [
  {
   "cell_type": "markdown",
   "metadata": {},
   "source": [
    "---\n",
    "layout: post\n",
    "title: Mario Platforms Lesson\n",
    "description: A lesson designed to help you create your own platform for your game\n",
    "courses: { csse: {week: 8 } }\n",
    "type: ccc\n",
    "author: Gavin Copley, Zafeer Ahmed, Ryan Nguyen\n",
    "---"
   ]
  },
  {
   "cell_type": "markdown",
   "metadata": {},
   "source": [
    "<a href=\"https://ryann96.github.io/Team-Project/mariogame\">Mario Platforms</a>"
   ]
  },
  {
   "cell_type": "markdown",
   "metadata": {},
   "source": [
    "### Using OOP\n",
    "We use Object Orientated Programming to complete this task. OOP uses objects, classes, variables, and includes a plethora of other items to create, in this case, a developed and fully functional javascript game! Follow along as we go through the steps to make 3 of the following additions: A platform, a coin, and a scoreboard."
   ]
  },
  {
   "cell_type": "markdown",
   "metadata": {},
   "source": [
    "## What do we expect?\n",
    "We want the platform to be able to be walked on, we want to be able to jump off of it and jump onto it. We want the coin to disappear after touching it and we want it to connect directly to the scoreboard."
   ]
  },
  {
   "cell_type": "markdown",
   "metadata": {},
   "source": [
    "## Step 1: Making A Platform Class\n",
    "First, we need to make a new .js file to store our information. We named ours PlatformO.js, but you can name it whatever you want. However, if you do that, make sure you reference the correct file name when trying to import it (not recommended). \n",
    "- Include the following code to make sure that it runs with the rest of the game:"
   ]
  },
  {
   "cell_type": "code",
   "execution_count": null,
   "metadata": {
    "vscode": {
     "languageId": "javascript"
    }
   },
   "outputs": [],
   "source": [
    "import GameEnv from './GameEnv.js';\n",
    "import GameObject from './GameObject.js';\n",
    "\n",
    "export class PlatformO extends GameObject {\n",
    "    constructor(canvas, image) {\n",
    "        super(canvas, image, 0);\n",
    "    }\n",
    "\n",
    "    // Required, but no update action\n",
    "    update() {\n",
    "    }\n",
    "\n",
    "    // Draw position is always 0,0\n",
    "    draw() {\n",
    "        this.ctx.drawImage(this.image, 0, 0);\n",
    "    }\n",
    "\n",
    "    // Set platform position\n",
    "    size() {\n",
    "        // Formula for Height should be on constant ratio, using a proportion of 832\n",
    "        const scaledHeight = GameEnv.innerHeight * (60/832);\n",
    "        // Formula for Width is scaled: scaledWidth/scaledHeight == this.width/this.height\n",
    "        const scaledWidth = 150;\n",
    "        const platformX = .1 * GameEnv.innerWidth;\n",
    "        const platformY = (GameEnv.bottom - scaledHeight) - 150;\n",
    "\n",
    "        // set variables used in Display and Collision algorithms\n",
    "        this.bottom = platformY;\n",
    "        this.collisionHeight = scaledHeight;\n",
    "        this.collisionWidth = scaledWidth;\n",
    "    \n",
    "        //this.canvas.width = this.width; \n",
    "        //this.canvas.height = this.height;\n",
    "        this.canvas.style.width = `${scaledWidth}px`;\n",
    "        this.canvas.style.height = `${scaledHeight}px`;\n",
    "        this.canvas.style.position = 'absolute';\n",
    "        this.canvas.style.left = `${platformX}px`;\n",
    "        this.canvas.style.top = `${platformY}px`; \n",
    "\n",
    "    }\n",
    "}\n",
    "\n",
    "export default PlatformO;"
   ]
  },
  {
   "cell_type": "markdown",
   "metadata": {},
   "source": [
    "This code is very similar to the tube code. The PlatformO class is extending the GameObject class, and after being defined, we can now change values and key features that are needed from a platform. \n",
    "\n",
    "Constructor initializes the class and super inherits the traits from the class that it is extending. Draw draws it on the canvas and size adjusts values like position, height, and width.\n",
    "\n",
    "There are many files in which we need to make changes so the game is aware of the platform. Namely, the md file that the game is being displayed in, Player.js so we can have the player collide and stand on the platform, and also some code in GameLevel.\n",
    "- Most of the values are in this code is changeable; we can change the position, size, and so on for the platform. Be sure to experiment!"
   ]
  },
  {
   "cell_type": "markdown",
   "metadata": {},
   "source": [
    "Lets make the platform have an image. Lets navigate to the file named \"2023-11-27-CSSE-oop-game-levels.md\" or whatever you named your main file that holds the game. The following code is needed to provide an image for the platform (image is in slack)"
   ]
  },
  {
   "cell_type": "code",
   "execution_count": null,
   "metadata": {
    "vscode": {
     "languageId": "javascript"
    }
   },
   "outputs": [],
   "source": [
    "var assets = {\n",
    "    // other stuff up\n",
    "    platformO: {\n",
    "        grass: { src: \"/images/brick_wall.png\" },\n",
    "    },\n",
    "    // other stuff down\n",
    "};"
   ]
  },
  {
   "cell_type": "markdown",
   "metadata": {},
   "source": [
    "Scroll down to find and add to the next part..."
   ]
  },
  {
   "cell_type": "code",
   "execution_count": null,
   "metadata": {
    "vscode": {
     "languageId": "javascript"
    }
   },
   "outputs": [],
   "source": [
    "new GameLevel( {\n",
    "    tag: \"hills\", \n",
    "    background: assets.backgrounds.hills, \n",
    "    platform: assets.platforms.grass, \n",
    "    platformO: assets.platformO.grass, // This is what we need to add\n",
    "    player: assets.players.mario, \n",
    "    tube: assets.obstacles.tube, \n",
    "    callback: testerCallBack, \n",
    "    thing: assets.thing.coin, \n",
    "} );"
   ]
  },
  {
   "cell_type": "markdown",
   "metadata": {},
   "source": [
    "Now we need to edit the GameLevel.js file. This will make the platform constructed with the image when the level starts."
   ]
  },
  {
   "cell_type": "code",
   "execution_count": null,
   "metadata": {
    "vscode": {
     "languageId": "javascript"
    }
   },
   "outputs": [],
   "source": [
    "constructor(gameObject) {\n",
    "    // conditional assignments from GameObject to instance variables\n",
    "    this.tag = gameObject?.tag;\n",
    "    this.backgroundImg = gameObject.background?.file;\n",
    "    this.platformImg = gameObject.platform?.file;\n",
    "    this.platformOImg = gameObject.platformO?.file; // You want to add this one!\n",
    "    this.thingImg = gameObject.thing?.file; \n",
    "    this.playerImg = gameObject.player?.file;\n",
    "    this.playerData = gameObject?.player;\n",
    "    this.tubeImg = gameObject.tube?.file;\n",
    "    this.isComplete = gameObject?.callback; // function that determines if level is complete\n",
    "    GameEnv.levels.push(this);\n",
    "}"
   ]
  },
  {
   "cell_type": "markdown",
   "metadata": {},
   "source": [
    "Scroll down and add this too"
   ]
  },
  {
   "cell_type": "code",
   "execution_count": null,
   "metadata": {
    "vscode": {
     "languageId": "javascript"
    }
   },
   "outputs": [],
   "source": [
    "const imagesToLoad = [];\n",
    "// other stuff\n",
    "if (this.platformOImg) {\n",
    "    imagesToLoad.push(this.loadImage(this.platformOImg));\n",
    "}"
   ]
  },
  {
   "cell_type": "markdown",
   "metadata": {},
   "source": [
    "### Make sure you have this!\n",
    "This code is mandatory for the platform to be displayed!\n",
    "This code is all based off of Mr. Mortensen's previous code and uses his code as an example."
   ]
  },
  {
   "cell_type": "markdown",
   "metadata": {},
   "source": [
    "## Step 2: "
   ]
  }
 ],
 "metadata": {
  "language_info": {
   "name": "python"
  },
  "orig_nbformat": 4
 },
 "nbformat": 4,
 "nbformat_minor": 2
}
